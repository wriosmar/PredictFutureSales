{
 "cells": [
  {
   "cell_type": "markdown",
   "id": "a867f329-32d4-48b2-a20d-c0977322c918",
   "metadata": {
    "tags": []
   },
   "source": [
    "# Predicting Future Sales - A Machine Learning Project by Guillermo Rios Martinez"
   ]
  },
  {
   "cell_type": "markdown",
   "id": "f891440f-a0fc-4c4c-89e3-ae4ec9abbd67",
   "metadata": {},
   "source": [
    "**Introduction:**\n",
    "<br>\n",
    "**Goal:**\n",
    "<br>\n",
    "The goal of this project is to predict the total sales for every product and store in the next month. "
   ]
  },
  {
   "cell_type": "markdown",
   "id": "b916c4f2-dab9-409b-8285-d845c08a91df",
   "metadata": {
    "jp-MarkdownHeadingCollapsed": true,
    "tags": []
   },
   "source": [
    "## Setting up Python Libraries"
   ]
  },
  {
   "cell_type": "code",
   "execution_count": 1,
   "id": "e903502d-bd36-43cb-a416-3cc3d40d4be0",
   "metadata": {},
   "outputs": [],
   "source": [
    "# Import libraries\n",
    "import pandas as pd\n",
    "import numpy as np\n",
    "\n",
    "# Import Visualization libraries\n",
    "import seaborn as sns\n",
    "\n",
    "# Import Machine Learning libraries"
   ]
  },
  {
   "cell_type": "markdown",
   "id": "d0e2cdd1-9150-4669-a17c-cfee5f322c26",
   "metadata": {
    "jp-MarkdownHeadingCollapsed": true,
    "tags": []
   },
   "source": [
    "## Importing the Data"
   ]
  },
  {
   "cell_type": "code",
   "execution_count": 2,
   "id": "0a7f5949-2fe0-49a6-a739-ef59025aec69",
   "metadata": {},
   "outputs": [
    {
     "data": {
      "text/html": [
       "<div>\n",
       "<style scoped>\n",
       "    .dataframe tbody tr th:only-of-type {\n",
       "        vertical-align: middle;\n",
       "    }\n",
       "\n",
       "    .dataframe tbody tr th {\n",
       "        vertical-align: top;\n",
       "    }\n",
       "\n",
       "    .dataframe thead th {\n",
       "        text-align: right;\n",
       "    }\n",
       "</style>\n",
       "<table border=\"1\" class=\"dataframe\">\n",
       "  <thead>\n",
       "    <tr style=\"text-align: right;\">\n",
       "      <th></th>\n",
       "      <th>date</th>\n",
       "      <th>date_block_num</th>\n",
       "      <th>shop_id</th>\n",
       "      <th>item_id</th>\n",
       "      <th>item_price</th>\n",
       "      <th>item_cnt_day</th>\n",
       "    </tr>\n",
       "  </thead>\n",
       "  <tbody>\n",
       "    <tr>\n",
       "      <th>0</th>\n",
       "      <td>02.01.2013</td>\n",
       "      <td>0</td>\n",
       "      <td>59</td>\n",
       "      <td>22154</td>\n",
       "      <td>999.00</td>\n",
       "      <td>1.0</td>\n",
       "    </tr>\n",
       "    <tr>\n",
       "      <th>1</th>\n",
       "      <td>03.01.2013</td>\n",
       "      <td>0</td>\n",
       "      <td>25</td>\n",
       "      <td>2552</td>\n",
       "      <td>899.00</td>\n",
       "      <td>1.0</td>\n",
       "    </tr>\n",
       "    <tr>\n",
       "      <th>2</th>\n",
       "      <td>05.01.2013</td>\n",
       "      <td>0</td>\n",
       "      <td>25</td>\n",
       "      <td>2552</td>\n",
       "      <td>899.00</td>\n",
       "      <td>-1.0</td>\n",
       "    </tr>\n",
       "    <tr>\n",
       "      <th>3</th>\n",
       "      <td>06.01.2013</td>\n",
       "      <td>0</td>\n",
       "      <td>25</td>\n",
       "      <td>2554</td>\n",
       "      <td>1709.05</td>\n",
       "      <td>1.0</td>\n",
       "    </tr>\n",
       "    <tr>\n",
       "      <th>4</th>\n",
       "      <td>15.01.2013</td>\n",
       "      <td>0</td>\n",
       "      <td>25</td>\n",
       "      <td>2555</td>\n",
       "      <td>1099.00</td>\n",
       "      <td>1.0</td>\n",
       "    </tr>\n",
       "  </tbody>\n",
       "</table>\n",
       "</div>"
      ],
      "text/plain": [
       "         date  date_block_num  shop_id  item_id  item_price  item_cnt_day\n",
       "0  02.01.2013               0       59    22154      999.00           1.0\n",
       "1  03.01.2013               0       25     2552      899.00           1.0\n",
       "2  05.01.2013               0       25     2552      899.00          -1.0\n",
       "3  06.01.2013               0       25     2554     1709.05           1.0\n",
       "4  15.01.2013               0       25     2555     1099.00           1.0"
      ]
     },
     "execution_count": 2,
     "metadata": {},
     "output_type": "execute_result"
    }
   ],
   "source": [
    "# Import the data to a dataframe\n",
    "sales = pd.read_csv('sales_train.csv')\n",
    "\n",
    "# Prints the first five rows of the sales dataframe\n",
    "sales.head()"
   ]
  },
  {
   "cell_type": "markdown",
   "id": "ca414d89-3b49-4626-ab3a-f9d49a4dd167",
   "metadata": {
    "jp-MarkdownHeadingCollapsed": true,
    "tags": []
   },
   "source": [
    "## Understanding the Data"
   ]
  },
  {
   "cell_type": "markdown",
   "id": "f6a78ed4-dee0-40c1-a8d4-a14858cfb5fd",
   "metadata": {},
   "source": [
    "We are given data that ranges from January 2013 up to October 2015 (`date`). The feature, `date_block_num`, is a consecutive month number starting with 0 being January 2013 and 33 being October 2015. Additionaly, we are given the unique identifier of a shop (`shop_id`) as well as a unique identifier for an item (`item_id`) and the current price (`item_price`). For each item, we are given the number of products sold (`item_cnt_day`). "
   ]
  },
  {
   "cell_type": "code",
   "execution_count": 3,
   "id": "b97c1eae-da3b-4daa-8d7a-6207359e3aae",
   "metadata": {},
   "outputs": [
    {
     "data": {
      "text/plain": [
       "(2935849, 6)"
      ]
     },
     "execution_count": 3,
     "metadata": {},
     "output_type": "execute_result"
    }
   ],
   "source": [
    "# The total number of data points\n",
    "sales.shape"
   ]
  },
  {
   "cell_type": "markdown",
   "id": "0c909842-df96-4ffa-98b9-970e05c124a7",
   "metadata": {
    "jp-MarkdownHeadingCollapsed": true,
    "tags": []
   },
   "source": [
    "## Data Exploration & Cleaning"
   ]
  },
  {
   "cell_type": "markdown",
   "id": "551dadee-2f44-4ed1-a30f-58871ea88e0a",
   "metadata": {},
   "source": [
    "We are going to explore each feature and determine if there is a need to manipulate the data to get better results in the end. "
   ]
  },
  {
   "cell_type": "markdown",
   "id": "788681ad-8041-4efb-8eed-fb2cbb4eafbe",
   "metadata": {
    "tags": []
   },
   "source": [
    "### date_block_num"
   ]
  },
  {
   "cell_type": "code",
   "execution_count": 4,
   "id": "f057a8b9-a812-4f4d-97b4-84f9e1714142",
   "metadata": {},
   "outputs": [
    {
     "name": "stdout",
     "output_type": "stream",
     "text": [
      "Mean: 14.56991146343017\n",
      "Standard Deviation: 9.42298770875573\n",
      "Min: 0\n",
      "Max: 33\n"
     ]
    }
   ],
   "source": [
    "# Get mean, standard deviation, min, and max\n",
    "print(\"Mean: \" + str(sales['date_block_num'].mean()))\n",
    "print(\"Standard Deviation: \" + str(sales['date_block_num'].std()))\n",
    "print(\"Min: \" + str(sales['date_block_num'].min()))\n",
    "print(\"Max: \" + str(sales['date_block_num'].max()))"
   ]
  },
  {
   "cell_type": "code",
   "execution_count": 5,
   "id": "455922fc-e337-4866-af65-b78b4381de1a",
   "metadata": {},
   "outputs": [
    {
     "data": {
      "text/plain": [
       "<AxesSubplot:xlabel='date_block_num', ylabel='Count'>"
      ]
     },
     "execution_count": 5,
     "metadata": {},
     "output_type": "execute_result"
    },
    {
     "data": {
      "image/png": "[encoded data removed]",
      "text/plain": [
       "<Figure size 432x288 with 1 Axes>"
      ]
     },
     "metadata": {
      "needs_background": "light"
     },
     "output_type": "display_data"
    }
   ],
   "source": [
    "# Histogram of date_block_num to check the distribution of values\n",
    "sns.histplot(data=sales, x=\"date_block_num\")"
   ]
  },
  {
   "cell_type": "markdown",
   "id": "c4227a65-700d-46a8-8ec7-a85416a71e0d",
   "metadata": {
    "tags": []
   },
   "source": [
    "### shop_id"
   ]
  },
  {
   "cell_type": "code",
   "execution_count": 6,
   "id": "1810a2ce-328a-437e-a54c-36c7d7cd9904",
   "metadata": {},
   "outputs": [
    {
     "name": "stdout",
     "output_type": "stream",
     "text": [
      "Mean: 33.001728290521754\n",
      "Standard Deviation: 16.226973048333605\n",
      "Min: 0\n",
      "Max: 59\n"
     ]
    }
   ],
   "source": [
    "# Get mean, standard deviation, min, and max\n",
    "print(\"Mean: \" + str(sales['shop_id'].mean()))\n",
    "print(\"Standard Deviation: \" + str(sales['shop_id'].std()))\n",
    "print(\"Min: \" + str(sales['shop_id'].min()))\n",
    "print(\"Max: \" + str(sales['shop_id'].max()))"
   ]
  },
  {
   "cell_type": "code",
   "execution_count": 7,
   "id": "8658ced1-3c8f-4aa0-829e-78201ea9ab8a",
   "metadata": {},
   "outputs": [
    {
     "data": {
      "text/plain": [
       "<AxesSubplot:xlabel='shop_id', ylabel='Count'>"
      ]
     },
     "execution_count": 7,
     "metadata": {},
     "output_type": "execute_result"
    },
    {
     "data": {
      "image/png": "[encoded data removed]",
      "text/plain": [
       "<Figure size 432x288 with 1 Axes>"
      ]
     },
     "metadata": {
      "needs_background": "light"
     },
     "output_type": "display_data"
    }
   ],
   "source": [
    "# Histogram of shop_id to check the distribution of values\n",
    "sns.histplot(data=sales, x=\"shop_id\")"
   ]
  },
  {
   "cell_type": "markdown",
   "id": "4833ec16-4a37-4fd7-b61a-9b615c27b114",
   "metadata": {},
   "source": [
    "We can see form the information, there are 60 unique shops in the data. "
   ]
  },
  {
   "cell_type": "markdown",
   "id": "b0fa0f55-e02c-4f50-9b82-5280440afdd2",
   "metadata": {
    "tags": []
   },
   "source": [
    "### item_id"
   ]
  },
  {
   "cell_type": "code",
   "execution_count": 8,
   "id": "40d39613-d785-4134-a940-7a9ac607908b",
   "metadata": {},
   "outputs": [
    {
     "name": "stdout",
     "output_type": "stream",
     "text": [
      "Mean: 10197.227056977385\n",
      "Standard Deviation: 6324.297353891169\n",
      "Min: 0\n",
      "Max: 22169\n"
     ]
    }
   ],
   "source": [
    "# Get mean, standard deviation, min, and max\n",
    "print(\"Mean: \" + str(sales['item_id'].mean()))\n",
    "print(\"Standard Deviation: \" + str(sales['item_id'].std()))\n",
    "print(\"Min: \" + str(sales['item_id'].min()))\n",
    "print(\"Max: \" + str(sales['item_id'].max()))"
   ]
  },
  {
   "cell_type": "code",
   "execution_count": 9,
   "id": "cd2fc43c-bbdd-4fd9-9bb5-ab57d2701289",
   "metadata": {},
   "outputs": [
    {
     "data": {
      "text/plain": [
       "<AxesSubplot:xlabel='item_id', ylabel='Count'>"
      ]
     },
     "execution_count": 9,
     "metadata": {},
     "output_type": "execute_result"
    },
    {
     "data": {
      "image/png": "[encoded data removed]",
      "text/plain": [
       "<Figure size 432x288 with 1 Axes>"
      ]
     },
     "metadata": {
      "needs_background": "light"
     },
     "output_type": "display_data"
    }
   ],
   "source": [
    "# Histogram of item_id to check the distribution of values\n",
    "sns.histplot(data=sales, x=\"item_id\")"
   ]
  },
  {
   "cell_type": "markdown",
   "id": "a9cbe628-f6f2-4441-b0e2-6147d0669ecc",
   "metadata": {},
   "source": [
    "We can see that there are 22,169 unique items in the data."
   ]
  },
  {
   "cell_type": "markdown",
   "id": "68267cc9-c84b-43f5-bfe4-1a1c44e27555",
   "metadata": {
    "tags": []
   },
   "source": [
    "### item_price"
   ]
  },
  {
   "cell_type": "code",
   "execution_count": 10,
   "id": "06733372-4014-49df-86a7-692642fa0676",
   "metadata": {},
   "outputs": [
    {
     "name": "stdout",
     "output_type": "stream",
     "text": [
      "Mean: 890.8532326980126\n",
      "Standard Deviation: 1729.7996307126623\n",
      "Min: -1.0\n",
      "Max: 307980.0\n"
     ]
    }
   ],
   "source": [
    "# Get mean, standard deviation, min, and max\n",
    "print(\"Mean: \" + str(sales['item_price'].mean()))\n",
    "print(\"Standard Deviation: \" + str(sales['item_price'].std()))\n",
    "print(\"Min: \" + str(sales['item_price'].min()))\n",
    "print(\"Max: \" + str(sales['item_price'].max()))"
   ]
  },
  {
   "cell_type": "markdown",
   "id": "966e0868-781d-4dc9-b9ee-d7158881ba42",
   "metadata": {},
   "source": [
    "We will use a boxplot instead of a histogram becuase there seems to be a huge difference in our max and min."
   ]
  },
  {
   "cell_type": "code",
   "execution_count": 11,
   "id": "5a69a215-fb41-46ad-b273-7c8f5091260a",
   "metadata": {
    "tags": []
   },
   "outputs": [
    {
     "data": {
      "text/plain": [
       "<AxesSubplot:xlabel='item_price'>"
      ]
     },
     "execution_count": 11,
     "metadata": {},
     "output_type": "execute_result"
    },
    {
     "data": {
      "image/png": "[encoded data removed]",
      "text/plain": [
       "<Figure size 432x288 with 1 Axes>"
      ]
     },
     "metadata": {
      "needs_background": "light"
     },
     "output_type": "display_data"
    }
   ],
   "source": [
    "# Boxplot of item_price to check the distribution of values\n",
    "sns.boxplot(x=sales['item_price'])"
   ]
  },
  {
   "cell_type": "markdown",
   "id": "f3f15a4e-20f8-4cdb-aff5-5b52985f27af",
   "metadata": {},
   "source": [
    "**We see here there are a couple discrepancies in the data. We will now find solutions to these problems before moving on.**\n",
    "<br>\n",
    "**1. There is a min value of -1 in the data. It is not possible for an item to be priced as -1.**"
   ]
  },
  {
   "cell_type": "code",
   "execution_count": 12,
   "id": "9a86e189-708b-403a-bf15-d570e9ca7a66",
   "metadata": {},
   "outputs": [
    {
     "name": "stdout",
     "output_type": "stream",
     "text": [
      "item_price has, 1 point(s) with -1 as a value!\n"
     ]
    }
   ],
   "source": [
    "# Check how many data points have a value of -1 in item_price\n",
    "print(\"item_price has, \" + str(sales[sales['item_price'] == -1].shape[0]) + \" point(s) with -1 as a value!\")"
   ]
  },
  {
   "cell_type": "code",
   "execution_count": 13,
   "id": "a53cf53c-1cf3-479a-af6f-e6e581213f54",
   "metadata": {},
   "outputs": [
    {
     "name": "stdout",
     "output_type": "stream",
     "text": [
      "              date  date_block_num  shop_id  item_id  item_price  item_cnt_day\n",
      "484683  15.05.2013               4       32     2973        -1.0           1.0\n"
     ]
    }
   ],
   "source": [
    "# The data point\n",
    "print(sales[sales['item_price'] == -1])"
   ]
  },
  {
   "cell_type": "markdown",
   "id": "91440353-3a57-47e0-9661-3002fbcefd01",
   "metadata": {},
   "source": [
    "Since there is only 1 data point, we can go ahead and drop this point without having to worry about significant effects in our end results since there are so many data points. "
   ]
  },
  {
   "cell_type": "code",
   "execution_count": 14,
   "id": "d7a1ba45-e921-41e1-86d5-f99ddf09270f",
   "metadata": {},
   "outputs": [],
   "source": [
    "# Dropping the data point\n",
    "sales.drop(sales[sales['item_price'] == -1].index, inplace=True)"
   ]
  },
  {
   "cell_type": "markdown",
   "id": "bc631cb3-d884-4434-91bd-b3c623fc6144",
   "metadata": {},
   "source": [
    "**2. There is a max value of 307,980. This seems too high compared to the other prices.**"
   ]
  },
  {
   "cell_type": "markdown",
   "id": "3986fcd6-fd62-44c6-8ec3-37b4c8a72887",
   "metadata": {},
   "source": [
    "From the boxplot above, we can see that 50,000 is a good cutting off point to get rid of outliers. "
   ]
  },
  {
   "cell_type": "code",
   "execution_count": 15,
   "id": "92c78b7e-41d6-49cd-abe5-e0ae389a22ae",
   "metadata": {},
   "outputs": [
    {
     "name": "stdout",
     "output_type": "stream",
     "text": [
      "item_price has, 3 point(s) greater than 50,000 as a value!\n"
     ]
    }
   ],
   "source": [
    "# Check how many data points have a value of greater than 50,000 in item_price\n",
    "print(\"item_price has, \" + str(sales[sales['item_price'] > 50000].shape[0]) + \" point(s) greater than 50,000 as a value!\")"
   ]
  },
  {
   "cell_type": "code",
   "execution_count": 16,
   "id": "d9ad3abd-dbfd-4c1b-92ac-617ed7452f6e",
   "metadata": {},
   "outputs": [
    {
     "name": "stdout",
     "output_type": "stream",
     "text": [
      "               date  date_block_num  shop_id  item_id  item_price  \\\n",
      "885138   17.09.2013               8       12    11365     59200.0   \n",
      "1163158  13.12.2013              11       12     6066    307980.0   \n",
      "1488135  20.03.2014              14       25    13199     50999.0   \n",
      "\n",
      "         item_cnt_day  \n",
      "885138            1.0  \n",
      "1163158           1.0  \n",
      "1488135           1.0  \n"
     ]
    }
   ],
   "source": [
    "# The data points\n",
    "print(sales[sales['item_price'] > 50000])"
   ]
  },
  {
   "cell_type": "code",
   "execution_count": 17,
   "id": "4b64aad0-fbbd-482d-912f-5081cacd35b6",
   "metadata": {},
   "outputs": [],
   "source": [
    "# Dropping the data points\n",
    "sales.drop(sales[sales['item_price'] > 50000].index, inplace=True)"
   ]
  },
  {
   "cell_type": "code",
   "execution_count": 18,
   "id": "66278ee8-7238-445e-bbfe-07bcba336b1d",
   "metadata": {},
   "outputs": [
    {
     "data": {
      "text/plain": [
       "<AxesSubplot:xlabel='item_price'>"
      ]
     },
     "execution_count": 18,
     "metadata": {},
     "output_type": "execute_result"
    },
    {
     "data": {
      "image/png": "[encoded data removed]",
      "text/plain": [
       "<Figure size 432x288 with 1 Axes>"
      ]
     },
     "metadata": {
      "needs_background": "light"
     },
     "output_type": "display_data"
    }
   ],
   "source": [
    "# Boxplot of item_price to check the distribution of values\n",
    "sns.boxplot(x=sales['item_price'])"
   ]
  },
  {
   "cell_type": "markdown",
   "id": "66e9ae40-37dd-401c-9de3-3f22bd61276a",
   "metadata": {},
   "source": [
    "**And now, our new information about item_price:**"
   ]
  },
  {
   "cell_type": "code",
   "execution_count": 19,
   "id": "d2541c52-c5c6-49d7-896b-df5d27483474",
   "metadata": {},
   "outputs": [
    {
     "name": "stdout",
     "output_type": "stream",
     "text": [
      "Mean: 890.7120077399277\n",
      "Standard Deviation: 1719.905730363257\n",
      "Min: 0.07\n",
      "Max: 49782.0\n"
     ]
    }
   ],
   "source": [
    "# Get mean, standard deviation, min, and max\n",
    "print(\"Mean: \" + str(sales['item_price'].mean()))\n",
    "print(\"Standard Deviation: \" + str(sales['item_price'].std()))\n",
    "print(\"Min: \" + str(sales['item_price'].min()))\n",
    "print(\"Max: \" + str(sales['item_price'].max()))"
   ]
  },
  {
   "cell_type": "markdown",
   "id": "d2cdc1ce-690f-4415-a6fb-6bf23cf9a6e3",
   "metadata": {
    "tags": []
   },
   "source": [
    "### item_cnt_day"
   ]
  },
  {
   "cell_type": "code",
   "execution_count": 20,
   "id": "251b4674-f664-437b-ae80-60f991d9d7f2",
   "metadata": {},
   "outputs": [
    {
     "name": "stdout",
     "output_type": "stream",
     "text": [
      "Mean: 1.242641215731757\n",
      "Standard Deviation: 2.618836199621761\n",
      "Min: -22.0\n",
      "Max: 2169.0\n"
     ]
    }
   ],
   "source": [
    "# Get mean, standard deviation, min, and max\n",
    "print(\"Mean: \" + str(sales['item_cnt_day'].mean()))\n",
    "print(\"Standard Deviation: \" + str(sales['item_cnt_day'].std()))\n",
    "print(\"Min: \" + str(sales['item_cnt_day'].min()))\n",
    "print(\"Max: \" + str(sales['item_cnt_day'].max()))"
   ]
  },
  {
   "cell_type": "markdown",
   "id": "4d631bb2-daeb-4f13-8a09-9f3a910037dd",
   "metadata": {},
   "source": [
    "Similar to item_price, we see a huge difference in the max and min, so we will use a Boxplot."
   ]
  },
  {
   "cell_type": "code",
   "execution_count": 21,
   "id": "1d999086-e95b-499c-9576-61277d6e8d77",
   "metadata": {},
   "outputs": [
    {
     "data": {
      "text/plain": [
       "<AxesSubplot:xlabel='item_cnt_day'>"
      ]
     },
     "execution_count": 21,
     "metadata": {},
     "output_type": "execute_result"
    },
    {
     "data": {
      "image/png": "[encoded data removed]",
      "text/plain": [
       "<Figure size 432x288 with 1 Axes>"
      ]
     },
     "metadata": {
      "needs_background": "light"
     },
     "output_type": "display_data"
    }
   ],
   "source": [
    "# Boxplot of item_cnt_day to check the distribution of values\n",
    "sns.boxplot(x=sales['item_cnt_day'])"
   ]
  },
  {
   "cell_type": "markdown",
   "id": "07082c80-48a0-4527-9b77-f5c487f52502",
   "metadata": {},
   "source": [
    "Unlike item_price, negative values here make sense since it is possible to have returns of a product, thus resulting in a negative value. We can however, see a couple outliers. To remedy this, we will drop any values greater than 750. "
   ]
  },
  {
   "cell_type": "markdown",
   "id": "4cc1512c-03b5-4c51-aae7-0659d0369c58",
   "metadata": {},
   "source": [
    "**1. Getting rid of outliers in item_cnt_day**"
   ]
  },
  {
   "cell_type": "code",
   "execution_count": 22,
   "id": "6282092c-2b45-41bc-94df-7f8b1d9a289e",
   "metadata": {},
   "outputs": [
    {
     "name": "stdout",
     "output_type": "stream",
     "text": [
      "item_cnt_day has, 2 point(s) greater than 750 as a value!\n"
     ]
    }
   ],
   "source": [
    "# Check how many data points have a value greater than 750 in item_cnt_day\n",
    "print(\"item_cnt_day has, \" + str(sales[sales['item_cnt_day'] > 750].shape[0]) + \" point(s) greater than 750 as a value!\")"
   ]
  },
  {
   "cell_type": "code",
   "execution_count": 23,
   "id": "8380150f-e809-436b-83e4-046b47b10fb4",
   "metadata": {},
   "outputs": [],
   "source": [
    "# Dropping the data points\n",
    "sales.drop(sales[sales['item_cnt_day'] > 750].index, inplace=True)"
   ]
  },
  {
   "cell_type": "code",
   "execution_count": 24,
   "id": "3994dd56-95b3-4c76-bb6b-50be85e8f41e",
   "metadata": {},
   "outputs": [
    {
     "data": {
      "text/plain": [
       "<AxesSubplot:xlabel='item_cnt_day'>"
      ]
     },
     "execution_count": 24,
     "metadata": {},
     "output_type": "execute_result"
    },
    {
     "data": {
      "image/png": "[encoded data removed]",
      "text/plain": [
       "<Figure size 432x288 with 1 Axes>"
      ]
     },
     "metadata": {
      "needs_background": "light"
     },
     "output_type": "display_data"
    }
   ],
   "source": [
    "# Boxplot of item_cnt_day to check the distribution of values\n",
    "sns.boxplot(x=sales['item_cnt_day'])"
   ]
  },
  {
   "cell_type": "markdown",
   "id": "5ac8e0ae-b347-406d-ad12-6dcbb834c875",
   "metadata": {},
   "source": [
    "**And now, our new information about item_cnt_day:**"
   ]
  },
  {
   "cell_type": "code",
   "execution_count": 25,
   "id": "6a6bba55-7229-4932-9581-3a5ca452f9b7",
   "metadata": {},
   "outputs": [
    {
     "name": "stdout",
     "output_type": "stream",
     "text": [
      "Mean: 1.2415626448689525\n",
      "Standard Deviation: 2.217636855179188\n",
      "Min: -22.0\n",
      "Max: 669.0\n"
     ]
    }
   ],
   "source": [
    "# Get mean, standard deviation, min, and max\n",
    "print(\"Mean: \" + str(sales['item_cnt_day'].mean()))\n",
    "print(\"Standard Deviation: \" + str(sales['item_cnt_day'].std()))\n",
    "print(\"Min: \" + str(sales['item_cnt_day'].min()))\n",
    "print(\"Max: \" + str(sales['item_cnt_day'].max()))"
   ]
  },
  {
   "cell_type": "markdown",
   "id": "31b1a599-3732-4f82-9243-29ab84e6177b",
   "metadata": {},
   "source": [
    "Now that our features have been rid of outliers and some negative values, we will now take a further look at the data as a whole. We'll take a look at repeated data points to finish."
   ]
  },
  {
   "cell_type": "markdown",
   "id": "1ddf4ede-123f-40c8-91e9-967056b9fe07",
   "metadata": {},
   "source": [
    "### Duplicates in the data:"
   ]
  },
  {
   "cell_type": "code",
   "execution_count": 26,
   "id": "24418cd6-5fd0-4c48-af2c-ce3825a080c0",
   "metadata": {},
   "outputs": [
    {
     "name": "stdout",
     "output_type": "stream",
     "text": [
      "               date  date_block_num  shop_id  item_id  item_price  \\\n",
      "76962    05.01.2013               0       54    20130       149.0   \n",
      "1435367  23.02.2014              13       50     3423       999.0   \n",
      "1496766  23.03.2014              14       21     3423       999.0   \n",
      "1671873  01.05.2014              16       50     3423       999.0   \n",
      "1866340  12.07.2014              18       25     3423       999.0   \n",
      "2198566  31.12.2014              23       42    21619       499.0   \n",
      "\n",
      "         item_cnt_day  \n",
      "76962             1.0  \n",
      "1435367           1.0  \n",
      "1496766           1.0  \n",
      "1671873           1.0  \n",
      "1866340           1.0  \n",
      "2198566           1.0  \n"
     ]
    }
   ],
   "source": [
    "# Get the data points that are duplicated\n",
    "print(sales[sales.duplicated()])"
   ]
  },
  {
   "cell_type": "markdown",
   "id": "b8ac87e7-dcec-46e5-800f-625ee299aa21",
   "metadata": {},
   "source": [
    "There are only 6 points in the data that are duplicated, so this probably won't affect our end results very much. I have decided to drop these points. "
   ]
  },
  {
   "cell_type": "code",
   "execution_count": 27,
   "id": "4e6d7501-2e34-4307-86c1-a0196d546394",
   "metadata": {},
   "outputs": [],
   "source": [
    "# Dropping duplicate data points\n",
    "sales.drop(sales[sales.duplicated()].index, inplace=True)"
   ]
  },
  {
   "cell_type": "markdown",
   "id": "099deac8-03dd-445a-ad6d-2d1f9f250901",
   "metadata": {
    "jp-MarkdownHeadingCollapsed": true,
    "tags": []
   },
   "source": [
    "## Feature Engineering"
   ]
  },
  {
   "cell_type": "markdown",
   "id": "1a7f94df-d405-4983-a588-8f82273c5549",
   "metadata": {},
   "source": [
    "At the moment, our data is representing the amount of items sold per day. We want to predict the total sales for the month. To be able to accomplish this, we will have to reformat the data to better fit our needs by converting the data in to monthly reports instead of daily."
   ]
  },
  {
   "cell_type": "code",
   "execution_count": 28,
   "id": "d36c9e9b-a4df-4cfd-8236-caee5d66d0c8",
   "metadata": {},
   "outputs": [],
   "source": [
    "# Getting rid of date feature. We will not be using this feature since we want the monthly count, not daily.\n",
    "# We already have date_block_num to get the month and year. (0 is January 2013)\n",
    "sales = sales.drop('date', axis=1)"
   ]
  },
  {
   "cell_type": "code",
   "execution_count": 29,
   "id": "b48e5850-84ee-450f-9c16-97ddf81d5893",
   "metadata": {},
   "outputs": [
    {
     "data": {
      "text/html": [
       "<div>\n",
       "<style scoped>\n",
       "    .dataframe tbody tr th:only-of-type {\n",
       "        vertical-align: middle;\n",
       "    }\n",
       "\n",
       "    .dataframe tbody tr th {\n",
       "        vertical-align: top;\n",
       "    }\n",
       "\n",
       "    .dataframe thead th {\n",
       "        text-align: right;\n",
       "    }\n",
       "</style>\n",
       "<table border=\"1\" class=\"dataframe\">\n",
       "  <thead>\n",
       "    <tr style=\"text-align: right;\">\n",
       "      <th></th>\n",
       "      <th>date_block_num</th>\n",
       "      <th>shop_id</th>\n",
       "      <th>item_id</th>\n",
       "      <th>item_price</th>\n",
       "      <th>item_cnt_day</th>\n",
       "    </tr>\n",
       "  </thead>\n",
       "  <tbody>\n",
       "    <tr>\n",
       "      <th>0</th>\n",
       "      <td>0</td>\n",
       "      <td>59</td>\n",
       "      <td>22154</td>\n",
       "      <td>999.00</td>\n",
       "      <td>1.0</td>\n",
       "    </tr>\n",
       "    <tr>\n",
       "      <th>1</th>\n",
       "      <td>0</td>\n",
       "      <td>25</td>\n",
       "      <td>2552</td>\n",
       "      <td>899.00</td>\n",
       "      <td>1.0</td>\n",
       "    </tr>\n",
       "    <tr>\n",
       "      <th>2</th>\n",
       "      <td>0</td>\n",
       "      <td>25</td>\n",
       "      <td>2552</td>\n",
       "      <td>899.00</td>\n",
       "      <td>-1.0</td>\n",
       "    </tr>\n",
       "    <tr>\n",
       "      <th>3</th>\n",
       "      <td>0</td>\n",
       "      <td>25</td>\n",
       "      <td>2554</td>\n",
       "      <td>1709.05</td>\n",
       "      <td>1.0</td>\n",
       "    </tr>\n",
       "    <tr>\n",
       "      <th>4</th>\n",
       "      <td>0</td>\n",
       "      <td>25</td>\n",
       "      <td>2555</td>\n",
       "      <td>1099.00</td>\n",
       "      <td>1.0</td>\n",
       "    </tr>\n",
       "  </tbody>\n",
       "</table>\n",
       "</div>"
      ],
      "text/plain": [
       "   date_block_num  shop_id  item_id  item_price  item_cnt_day\n",
       "0               0       59    22154      999.00           1.0\n",
       "1               0       25     2552      899.00           1.0\n",
       "2               0       25     2552      899.00          -1.0\n",
       "3               0       25     2554     1709.05           1.0\n",
       "4               0       25     2555     1099.00           1.0"
      ]
     },
     "execution_count": 29,
     "metadata": {},
     "output_type": "execute_result"
    }
   ],
   "source": [
    "# A view of our updated data set\n",
    "sales.head()"
   ]
  },
  {
   "cell_type": "code",
   "execution_count": 30,
   "id": "8f2d1504-3f0c-4e53-bf4b-476511dc63af",
   "metadata": {},
   "outputs": [],
   "source": [
    "# Change the item count to monthly instead of daily.\n",
    "# Group by date_block_num, shop_id, item_id, and item_price\n",
    "# Then get the average price of the item and sum the item counts\n",
    "sales_monthly = sales.groupby(['date_block_num', 'shop_id', 'item_id']).agg({'item_price':'mean', 'item_cnt_day':'sum'}).reset_index()\n",
    "\n",
    "# Rename item_cnt_day to item_cnt_month\n",
    "sales_monthly = sales_monthly.rename(columns={\"item_cnt_day\":\"item_cnt_month\"})"
   ]
  },
  {
   "cell_type": "code",
   "execution_count": 31,
   "id": "241c79ca-47cc-4324-abdb-c64ff743234c",
   "metadata": {},
   "outputs": [
    {
     "data": {
      "text/html": [
       "<div>\n",
       "<style scoped>\n",
       "    .dataframe tbody tr th:only-of-type {\n",
       "        vertical-align: middle;\n",
       "    }\n",
       "\n",
       "    .dataframe tbody tr th {\n",
       "        vertical-align: top;\n",
       "    }\n",
       "\n",
       "    .dataframe thead th {\n",
       "        text-align: right;\n",
       "    }\n",
       "</style>\n",
       "<table border=\"1\" class=\"dataframe\">\n",
       "  <thead>\n",
       "    <tr style=\"text-align: right;\">\n",
       "      <th></th>\n",
       "      <th>date_block_num</th>\n",
       "      <th>shop_id</th>\n",
       "      <th>item_id</th>\n",
       "      <th>item_price</th>\n",
       "      <th>item_cnt_month</th>\n",
       "    </tr>\n",
       "  </thead>\n",
       "  <tbody>\n",
       "    <tr>\n",
       "      <th>0</th>\n",
       "      <td>0</td>\n",
       "      <td>0</td>\n",
       "      <td>32</td>\n",
       "      <td>221.0</td>\n",
       "      <td>6.0</td>\n",
       "    </tr>\n",
       "    <tr>\n",
       "      <th>1</th>\n",
       "      <td>0</td>\n",
       "      <td>0</td>\n",
       "      <td>33</td>\n",
       "      <td>347.0</td>\n",
       "      <td>3.0</td>\n",
       "    </tr>\n",
       "    <tr>\n",
       "      <th>2</th>\n",
       "      <td>0</td>\n",
       "      <td>0</td>\n",
       "      <td>35</td>\n",
       "      <td>247.0</td>\n",
       "      <td>1.0</td>\n",
       "    </tr>\n",
       "    <tr>\n",
       "      <th>3</th>\n",
       "      <td>0</td>\n",
       "      <td>0</td>\n",
       "      <td>43</td>\n",
       "      <td>221.0</td>\n",
       "      <td>1.0</td>\n",
       "    </tr>\n",
       "    <tr>\n",
       "      <th>4</th>\n",
       "      <td>0</td>\n",
       "      <td>0</td>\n",
       "      <td>51</td>\n",
       "      <td>128.5</td>\n",
       "      <td>2.0</td>\n",
       "    </tr>\n",
       "  </tbody>\n",
       "</table>\n",
       "</div>"
      ],
      "text/plain": [
       "   date_block_num  shop_id  item_id  item_price  item_cnt_month\n",
       "0               0        0       32       221.0             6.0\n",
       "1               0        0       33       347.0             3.0\n",
       "2               0        0       35       247.0             1.0\n",
       "3               0        0       43       221.0             1.0\n",
       "4               0        0       51       128.5             2.0"
      ]
     },
     "execution_count": 31,
     "metadata": {},
     "output_type": "execute_result"
    }
   ],
   "source": [
    "# A view of the new monthly sales data set\n",
    "sales_monthly.head()"
   ]
  },
  {
   "cell_type": "code",
   "execution_count": 32,
   "id": "414f49a7-8505-49d1-aaa0-19d69f000519",
   "metadata": {},
   "outputs": [
    {
     "name": "stdout",
     "output_type": "stream",
     "text": [
      "The size of the montly data set is 1609121\n",
      "Compared to our daily data set which is 2935837\n"
     ]
    }
   ],
   "source": [
    "# The size of our new data set should be smaller since we've grouped \n",
    "print(\"The size of the montly data set is \" + str(sales_monthly.shape[0]))\n",
    "print(\"Compared to our daily data set which is \" + str(sales.shape[0]))"
   ]
  },
  {
   "cell_type": "markdown",
   "id": "3c6efd0d-df8b-42b0-965f-64f9bb01e252",
   "metadata": {},
   "source": [
    "**Let's take a qick look and see the changes made by performing the groupby function by looking at a specific store and item on a specific month and compare the results:**\n",
    "<br>\n",
    "<br>\n",
    "**The results of shop #59 and item id 17717 on October 2015 on the original data set are:**"
   ]
  },
  {
   "cell_type": "code",
   "execution_count": 33,
   "id": "eb3af840-7fcb-4034-84db-730e960d4c8f",
   "metadata": {},
   "outputs": [
    {
     "name": "stdout",
     "output_type": "stream",
     "text": [
      "         date_block_num  shop_id  item_id  item_price  item_cnt_day\n",
      "2899227              33       59    17717      1250.0           2.0\n",
      "2899228              33       59    17717      1999.0           1.0\n",
      "2899229              33       59    17717       500.0           1.0\n",
      "2899230              33       59    17717      1250.0           2.0\n",
      "2899231              33       59    17717       809.5           2.0\n",
      "2899232              33       59    17717       299.0           1.0\n",
      "2899233              33       59    17717       500.0           1.0\n",
      "2899234              33       59    17717       499.0           1.0\n",
      "2899235              33       59    17717       500.0           1.0\n",
      "2899236              33       59    17717       419.0           1.0\n"
     ]
    }
   ],
   "source": [
    "# Take a look at a specific month, shop, item, and see if there are duplicates in the ORIGINAL data set.\n",
    "original = sales[(sales[\"date_block_num\"] == 33) & (sales[\"shop_id\"] == 59) & (sales[\"item_id\"] == 17717)]\n",
    "\n",
    "print(original)"
   ]
  },
  {
   "cell_type": "markdown",
   "id": "34d73c2f-5644-4c80-ad71-fc0e9878789d",
   "metadata": {},
   "source": [
    "**The results of shop #59 and item id 17717 on October 2015 on the updated data set are:**"
   ]
  },
  {
   "cell_type": "code",
   "execution_count": 34,
   "id": "d22e9b44-6065-4d70-a68d-6e542bd1deef",
   "metadata": {},
   "outputs": [
    {
     "name": "stdout",
     "output_type": "stream",
     "text": [
      "         date_block_num  shop_id  item_id  item_price  item_cnt_month\n",
      "1609057              33       59    17717      802.55            13.0\n"
     ]
    }
   ],
   "source": [
    "# Take a look at the same data point from above and see if how the groupby function changed the results.\n",
    "updated = sales_monthly[(sales_monthly[\"date_block_num\"] == 33) & (sales_monthly[\"shop_id\"] == 59) & (sales_monthly[\"item_id\"] == 17717)]\n",
    "\n",
    "print(updated)"
   ]
  },
  {
   "cell_type": "markdown",
   "id": "b70ea656-6ce5-40dd-b4f1-480447c95e68",
   "metadata": {},
   "source": [
    "**Then we will confirm there are no duplicate data points in our data set:**"
   ]
  },
  {
   "cell_type": "code",
   "execution_count": 35,
   "id": "87d49079-fc3d-4603-b259-5e3882435ea0",
   "metadata": {},
   "outputs": [
    {
     "name": "stdout",
     "output_type": "stream",
     "text": [
      "There are 0 duplicate data points!\n"
     ]
    }
   ],
   "source": [
    "# Checks the number of duplicate points in the data set sales_monthly\n",
    "print(\"There are \" + str(len(sales_monthly[sales_monthly.duplicated(subset=['item_id', 'shop_id', 'date_block_num'])])) + \" duplicate data points!\")"
   ]
  },
  {
   "cell_type": "markdown",
   "id": "aa35525d-ba41-425f-a1ec-077b60894e22",
   "metadata": {},
   "source": [
    "## Our Clean Data Set: Monthly Sales - Exploration and Visualizations"
   ]
  },
  {
   "cell_type": "markdown",
   "id": "a82ad3b5-c7c4-413f-9aa5-5d5376df04ab",
   "metadata": {},
   "source": [
    "Now that we have a clean data set, we can take a look at what exactly the data is telling us and get an idea of what predictive models we could use for the next section. "
   ]
  },
  {
   "cell_type": "code",
   "execution_count": 36,
   "id": "f521ba63-f93d-402b-bb62-487f54afb941",
   "metadata": {},
   "outputs": [
    {
     "name": "stdout",
     "output_type": "stream",
     "text": [
      "         date_block_num  shop_id  item_id   item_price  item_cnt_month\n",
      "122999                1       59    17717   565.666667             3.0\n",
      "621301               10       59    17717   227.000000             5.0\n",
      "974918               17       59    17717   669.500000             2.0\n",
      "1020688              18       59    17717   963.200000             5.0\n",
      "1067099              19       59    17717   812.983333            20.0\n",
      "1107555              20       59    17717   838.763605            27.0\n",
      "1150147              21       59    17717   703.131944            21.0\n",
      "1195885              22       59    17717   913.564815            46.0\n",
      "1255136              23       59    17717   986.053333            34.0\n",
      "1301927              24       59    17717   815.693750            27.0\n",
      "1343354              25       59    17717  1139.736111            22.0\n",
      "1383799              26       59    17717  1074.416667            26.0\n",
      "1416682              27       59    17717  1262.153846            19.0\n",
      "1448920              28       59    17717   877.944444            13.0\n",
      "1480810              29       59    17717   833.361111            10.0\n",
      "1514337              30       59    17717   806.104167            24.0\n",
      "1547818              31       59    17717  1010.589744            16.0\n",
      "1577517              32       59    17717   929.000000            12.0\n",
      "1609057              33       59    17717   802.550000            13.0\n"
     ]
    }
   ],
   "source": [
    "# Function to easily get a data frame of a certain shop and item \n",
    "def get_shop_item_df(shop_id, item_id):\n",
    "    shop_item_df = sales_monthly[(sales_monthly['shop_id'] == shop_id) & (sales_monthly['item_id'] == item_id)]\n",
    "    return shop_item_df\n",
    "\n",
    "# Our example shop 59 and item 17717\n",
    "print(get_shop_item_df(59, 17717))"
   ]
  },
  {
   "cell_type": "code",
   "execution_count": 37,
   "id": "27ae5ff2-086f-40ca-91ad-e6a703d672cf",
   "metadata": {},
   "outputs": [
    {
     "data": {
      "text/plain": [
       "Text(0, 0.5, '# of Units Sold')"
      ]
     },
     "execution_count": 37,
     "metadata": {},
     "output_type": "execute_result"
    },
    {
     "data": {
      "image/png": "[encoded data removed]",
      "text/plain": [
       "<Figure size 432x288 with 1 Axes>"
      ]
     },
     "metadata": {
      "needs_background": "light"
     },
     "output_type": "display_data"
    }
   ],
   "source": [
    "plt = sns.lineplot(data=get_shop_item_df(59, 17717), x=\"date_block_num\", y=\"item_cnt_month\")\n",
    "plt.set_title('Sales of Item 17717 at Shop 59')\n",
    "plt.set_xlabel('Month')\n",
    "plt.set_ylabel('# of Units Sold')"
   ]
  },
  {
   "cell_type": "code",
   "execution_count": 38,
   "id": "0c05bf8f-1b8f-4434-bca7-e4d50b26df23",
   "metadata": {},
   "outputs": [
    {
     "data": {
      "text/plain": [
       "Text(0, 0.5, 'Price of Item 17717')"
      ]
     },
     "execution_count": 38,
     "metadata": {},
     "output_type": "execute_result"
    },
    {
     "data": {
      "image/png": "[encoded data removed]",
      "text/plain": [
       "<Figure size 432x288 with 1 Axes>"
      ]
     },
     "metadata": {
      "needs_background": "light"
     },
     "output_type": "display_data"
    }
   ],
   "source": [
    "plt = sns.lineplot(data=get_shop_item_df(59, 17717), x=\"date_block_num\", y=\"item_price\")\n",
    "plt.set_title('Price of Item 17717 at Shop 59')\n",
    "plt.set_xlabel('Month')\n",
    "plt.set_ylabel('Price of Item 17717')"
   ]
  },
  {
   "cell_type": "code",
   "execution_count": null,
   "id": "0e090da0-6c5f-4dab-b191-e97fc2ca4ea2",
   "metadata": {},
   "outputs": [],
   "source": []
  }
 ],
 "metadata": {
  "kernelspec": {
   "display_name": "Python 3 (ipykernel)",
   "language": "python",
   "name": "python3"
  },
  "language_info": {
   "codemirror_mode": {
    "name": "ipython",
    "version": 3
   },
   "file_extension": ".py",
   "mimetype": "text/x-python",
   "name": "python",
   "nbconvert_exporter": "python",
   "pygments_lexer": "ipython3",
   "version": "3.9.6"
  }
 },
 "nbformat": 4,
 "nbformat_minor": 5
}
